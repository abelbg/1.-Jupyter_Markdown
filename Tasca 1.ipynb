{
 "cells": [
  {
   "cell_type": "markdown",
   "metadata": {},
   "source": [
    "# IT Academy - Data Science amb Python\n",
    "\n",
    "##  Tasca 1: familiarització amb Jupyter Notebook i Markdown"
   ]
  },
  {
   "cell_type": "markdown",
   "metadata": {},
   "source": [
    "Les Jupyter Notebook es constitueixen en cel·les. Aquestes cel·les poden ser o bé cel·les de markdown o cel·les de codi. "
   ]
  },
  {
   "cell_type": "markdown",
   "metadata": {},
   "source": [
    "### Cel·les de markdown \n",
    "![code icon](https://raw.githubusercontent.com/microsoft/vscode-python/main/images/markdownIcon.PNG \"Markdown logo\") `Markdown` és un llenguatge de marcatge lleuger que permet escriure utilitzant un format de text pla fàcil d'escriure i de llegir."
   ]
  },
  {
   "cell_type": "markdown",
   "metadata": {},
   "source": [
    "Amb markdown pots fer:\n",
    "* Llistes desordenades\n",
    "  * Llistes indentades\n",
    "\n",
    "  * Caselles de selecció:\n",
    "    * [x] Seleccionades\n",
    "    * [ ] No seleccionades\n",
    "    \n",
    "1. Llistes \n",
    "2. Ordenades\n",
    "3. Numéricament\n",
    "\n",
    "> Blockquotes\n",
    "\n",
    "```\n",
    "# Blocs de codi no executables\n",
    "a = 3//2\n",
    "```\n",
    "\n",
    "Emojis 👀\n",
    "\n",
    "\n",
    "Fins i tot: **Taules**\n",
    "\n",
    "|Capçalera 1|Capçalera 2|Capçalera 3|\n",
    "|-----------|:-----------:|-----------:|\n",
    "|Contingut|Contingut|Contingut|\n"
   ]
  },
  {
   "cell_type": "markdown",
   "metadata": {},
   "source": [
    "---"
   ]
  },
  {
   "cell_type": "markdown",
   "metadata": {},
   "source": [
    "### Cel·les de codi\n",
    "A continuació tenim una cel·la de codi. Una vegada l'hem emplenat amb codi, l'executem per obtenir el seu output.\n",
    "\n",
    "A continuació tenim diversos examples:"
   ]
  },
  {
   "cell_type": "code",
   "execution_count": 2,
   "metadata": {
    "ExecuteTime": {
     "end_time": "2021-04-16T19:22:45.267974Z",
     "start_time": "2021-04-16T19:22:45.253972Z"
    }
   },
   "outputs": [
    {
     "name": "stdout",
     "output_type": "stream",
     "text": [
      "hello world\n"
     ]
    }
   ],
   "source": [
    "phrase = \"hello world\"\n",
    "print(phrase)"
   ]
  },
  {
   "cell_type": "code",
   "execution_count": 1,
   "metadata": {
    "ExecuteTime": {
     "end_time": "2021-04-16T19:22:43.182461Z",
     "start_time": "2021-04-16T19:22:43.173449Z"
    }
   },
   "outputs": [
    {
     "name": "stdout",
     "output_type": "stream",
     "text": [
      "1.6\n",
      "1\n"
     ]
    }
   ],
   "source": [
    "a = 4 / float(\"2.5\")\n",
    "print(a)\n",
    "b = int(a)\n",
    "print(b)"
   ]
  },
  {
   "cell_type": "code",
   "execution_count": 3,
   "metadata": {
    "ExecuteTime": {
     "end_time": "2021-04-16T19:22:47.430675Z",
     "start_time": "2021-04-16T19:22:47.422034Z"
    }
   },
   "outputs": [
    {
     "name": "stdout",
     "output_type": "stream",
     "text": [
      "Abel Briones Galarza\n",
      "12\n"
     ]
    }
   ],
   "source": [
    "nom = \"Abel\"\n",
    "cognom1 = \"Briones\"\n",
    "cognom2 = \"Galarza\"\n",
    "nom_complert = nom + \" \" + cognom1 + \" \" + cognom2\n",
    "\n",
    "if type(nom_complert) == str:\n",
    "    print(nom_complert)\n",
    "    print(str(len(\"nom_complert\")))\n"
   ]
  },
  {
   "cell_type": "code",
   "execution_count": null,
   "metadata": {},
   "outputs": [],
   "source": []
  }
 ],
 "metadata": {
  "kernelspec": {
   "display_name": "Python 3",
   "language": "python",
   "name": "python3"
  },
  "language_info": {
   "codemirror_mode": {
    "name": "ipython",
    "version": 3
   },
   "file_extension": ".py",
   "mimetype": "text/x-python",
   "name": "python",
   "nbconvert_exporter": "python",
   "pygments_lexer": "ipython3",
   "version": "3.8.5"
  },
  "toc": {
   "base_numbering": 1,
   "nav_menu": {},
   "number_sections": false,
   "sideBar": true,
   "skip_h1_title": false,
   "title_cell": "Table of Contents",
   "title_sidebar": "Contents",
   "toc_cell": false,
   "toc_position": {},
   "toc_section_display": true,
   "toc_window_display": true
  }
 },
 "nbformat": 4,
 "nbformat_minor": 2
}
